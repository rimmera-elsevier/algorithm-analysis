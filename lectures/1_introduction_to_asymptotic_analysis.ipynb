{
 "cells": [
  {
   "cell_type": "markdown",
   "metadata": {},
   "source": [
    "# Introduction to Asymptotic Analysis\n",
    "\n",
    "## Overview\n",
    "* What are these talks about?\n",
    "* What is asymptotic analysis?\n",
    "* Why study asymptotic analysis?\n",
    "* Mathematical overview of big-Oh notation\n",
    "* Examples of some common algorithms, and analysis of their asymptotic complexity"
   ]
  },
  {
   "cell_type": "markdown",
   "metadata": {},
   "source": [
    "## What are these talks about?\n",
    "The idea is to give an overview of the analysis of algorithmic complexity, with some examples of real-world algorithms in Python, and their asymptotic behaviour. I will skip over most of the mathematical details, but will introduce $O$ notation for describing runtime complexity."
   ]
  },
  {
   "cell_type": "markdown",
   "metadata": {},
   "source": [
    "## Some utility functions for timing and plotting"
   ]
  },
  {
   "cell_type": "code",
   "execution_count": 12,
   "metadata": {},
   "outputs": [],
   "source": [
    "import time\n",
    "\n",
    "def time_function(func, params):\n",
    "    \"\"\"\n",
    "    Returns the approximate run-time of a function, in milliseconds\n",
    "    \"\"\"\n",
    "    start_time = time.time()\n",
    "    result = func(*params)\n",
    "    end_time = time.time()\n",
    "    return end_time - start_time"
   ]
  },
  {
   "cell_type": "code",
   "execution_count": 13,
   "metadata": {},
   "outputs": [],
   "source": [
    "def normalize(x):\n",
    "    sum_vals = sum(x)\n",
    "    return [val / sum_vals for val in x]"
   ]
  },
  {
   "cell_type": "code",
   "execution_count": 14,
   "metadata": {},
   "outputs": [],
   "source": [
    "def plot_O_n(min_size, max_size):\n",
    "    lengths = range(min_size, max_size)\n",
    "    times = normalize(lengths)\n",
    "    seaborn.lineplot(x=\"Length\", y=\"O(n)\", data=pandas.DataFrame({\"Length\": lengths, \"O(n)\": times}))"
   ]
  },
  {
   "cell_type": "markdown",
   "metadata": {},
   "source": [
    "## A motivating example: how long does it take to sort a list of numbers?"
   ]
  },
  {
   "cell_type": "code",
   "execution_count": 30,
   "metadata": {
    "scrolled": true
   },
   "outputs": [
    {
     "data": {
      "text/plain": [
       "<matplotlib.legend.Legend at 0x12dc3d690>"
      ]
     },
     "execution_count": 30,
     "metadata": {},
     "output_type": "execute_result"
    },
    {
     "data": {
      "image/png": "[encoded data removed]",
      "text/plain": [
       "<Figure size 1080x360 with 1 Axes>"
      ]
     },
     "metadata": {
      "needs_background": "light"
     },
     "output_type": "display_data"
    }
   ],
   "source": [
    "import numpy\n",
    "import seaborn\n",
    "import pandas\n",
    "import matplotlib.pyplot as plt\n",
    "\n",
    "from math import log\n",
    "#seaborn.set()\n",
    "\n",
    "min_size = 1000\n",
    "max_size = 1000000\n",
    "increment = 10000\n",
    "\n",
    "lists = [numpy.random.rand(x) for x in range(min_size, max_size, increment)]\n",
    "list_lengths = [len(x) for x in lists]\n",
    "\n",
    "sort_times = [time_function(numpy.sort, (x,)) for x in lists]\n",
    "\n",
    "O_n = normalize(list_lengths)\n",
    "O_n_log_n = normalize([x*log(x) for x in list_lengths])\n",
    "\n",
    "data = pandas.DataFrame({\n",
    "    \"Length\": list_lengths, \n",
    "    \"Time\": normalize(sort_times),\n",
    "    \"O(n)\": O_n,\n",
    "    \"O(n log n)\": O_n_log_n\n",
    "})\n",
    "\n",
    "plt.rcParams['figure.figsize'] = [15, 5]\n",
    "\n",
    "seaborn.lineplot(x=\"Length\", y=\"Time\", data=data, marker='o')\n",
    "#seaborn.lineplot(x=\"Length\", y=\"O(n)\", data=data)\n",
    "#seaborn.lineplot(x=\"Length\", y=\"O(n log n)\", data=data)\n",
    "\n",
    "plt.legend(labels=[\"Sort\", \"O(n)\", \"O(n log n)\"], loc=\"right\")"
   ]
  },
  {
   "cell_type": "code",
   "execution_count": null,
   "metadata": {},
   "outputs": [],
   "source": []
  },
  {
   "cell_type": "code",
   "execution_count": null,
   "metadata": {},
   "outputs": [],
   "source": []
  },
  {
   "cell_type": "code",
   "execution_count": null,
   "metadata": {},
   "outputs": [],
   "source": []
  }
 ],
 "metadata": {
  "kernelspec": {
   "display_name": "Python 3",
   "language": "python",
   "name": "python3"
  },
  "language_info": {
   "codemirror_mode": {
    "name": "ipython",
    "version": 3
   },
   "file_extension": ".py",
   "mimetype": "text/x-python",
   "name": "python",
   "nbconvert_exporter": "python",
   "pygments_lexer": "ipython3",
   "version": "3.7.7"
  }
 },
 "nbformat": 4,
 "nbformat_minor": 4
}
